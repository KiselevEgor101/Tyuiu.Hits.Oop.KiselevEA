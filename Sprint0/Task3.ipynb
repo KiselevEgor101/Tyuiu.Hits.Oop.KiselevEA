{
 "cells": [
  {
   "cell_type": "markdown",
   "metadata": {},
   "source": [
    "<h1 style=\"color:DodgerBlue\">Индивидальный проект</h1>"
   ]
  },
  {
   "cell_type": "markdown",
   "metadata": {},
   "source": [
    "<h2 style=\"color:DodgerBlue\">Название проекта:</h2>\n",
    "\n",
    "----\n",
    "\n",
    "### Вариант задания  7\n"
   ]
  },
  {
   "cell_type": "markdown",
   "metadata": {},
   "source": [
    "<h2 style=\"color:DodgerBlue\">Описание проекта:</h2>\n",
    "\n",
    "----\n",
    "\n",
    "Создать базовый класс BankAccount в C#, который будет представлять \n",
    "информацию об учетных записях в банке. На основе этого класса разработать 2-3 \n",
    "производных класса, демонстрирующих принципы наследования и полиморфизма. \n",
    "В каждом из классов должны быть реализованы новые атрибуты и методы, а также \n",
    "переопределены некоторые методы базового класса для демонстрации \n",
    "полиморфизма.\n"
   ]
  },
  {
   "cell_type": "markdown",
   "metadata": {},
   "source": [
    "<h2 style=\"color:DodgerBlue\">Реализация:</h2>\n",
    "\n",
    "----"
   ]
  },
  {
   "cell_type": "code",
   "execution_count": 4,
   "metadata": {
    "dotnet_interactive": {
     "language": "csharp"
    },
    "polyglot_notebook": {
     "kernelName": "csharp"
    }
   },
   "outputs": [
    {
     "name": "stdout",
     "output_type": "stream",
     "text": [
      "Счет: SA123, Тип: Сберегательный, Баланс: 1210\n",
      "Счет: CA123, Тип: Текущий, Баланс: -200, Снятие 700: Успешно\n",
      "Счет: IA123, Тип: Инвестиционный, Баланс: 1500, Активы: Акции, Облигации\n"
     ]
    }
   ],
   "source": [
    "using System;\n",
    "using System.Collections.Generic;\n",
    "\n",
    "public class BankAccount\n",
    "{\n",
    "    public string AccountNumber { get; set; }\n",
    "    public decimal Balance { get; protected set; }\n",
    "    public string AccountType { get; protected set; }\n",
    "\n",
    "    public BankAccount(string accountNumber, decimal balance, string accountType)\n",
    "    {\n",
    "        AccountNumber = accountNumber;\n",
    "        Balance = balance;\n",
    "        AccountType = accountType;\n",
    "    }\n",
    "\n",
    "    public virtual string GetInfo()\n",
    "    {\n",
    "        return $\"Счет: {AccountNumber}, Тип: {AccountType}, Баланс: {Balance}\";\n",
    "    }\n",
    "\n",
    "    public virtual void Deposit(decimal amount)\n",
    "    {\n",
    "        if (amount > 0)\n",
    "            Balance += amount;\n",
    "    }\n",
    "\n",
    "    public virtual bool Withdraw(decimal amount)\n",
    "    {\n",
    "        if (amount > 0 && amount <= Balance)\n",
    "        {\n",
    "            Balance -= amount;\n",
    "            return true;\n",
    "        }\n",
    "        return false;\n",
    "    }\n",
    "}\n",
    "\n",
    "public class SavingsAccount : BankAccount\n",
    "{\n",
    "    public decimal InterestRate { get; set; }\n",
    "\n",
    "    public SavingsAccount(string accountNumber, decimal balance, decimal interestRate)\n",
    "        : base(accountNumber, balance, \"Сберегательный\")\n",
    "    {\n",
    "        InterestRate = interestRate;\n",
    "    }\n",
    "\n",
    "    public override void Deposit(decimal amount)\n",
    "    {\n",
    "        if (amount > 0)\n",
    "        {\n",
    "            decimal interest = amount * InterestRate / 100;\n",
    "            Balance += amount + interest;\n",
    "        }\n",
    "    }\n",
    "}\n",
    "\n",
    "public class CheckingAccount : BankAccount\n",
    "{\n",
    "    public decimal OverdraftLimit { get; set; }\n",
    "\n",
    "    public CheckingAccount(string accountNumber, decimal balance, decimal overdraftLimit)\n",
    "        : base(accountNumber, balance, \"Текущий\")\n",
    "    {\n",
    "        OverdraftLimit = overdraftLimit;\n",
    "    }\n",
    "\n",
    "    public override bool Withdraw(decimal amount)\n",
    "    {\n",
    "        if (amount > 0 && (Balance + OverdraftLimit) >= amount)\n",
    "        {\n",
    "            Balance -= amount;\n",
    "            return true;\n",
    "        }\n",
    "        return false;\n",
    "    }\n",
    "}\n",
    "\n",
    "public class InvestmentAccount : BankAccount\n",
    "{\n",
    "    public List<string> AssetsList { get; set; }\n",
    "\n",
    "    public InvestmentAccount(string accountNumber, decimal balance, List<string> assetsList)\n",
    "        : base(accountNumber, balance, \"Инвестиционный\")\n",
    "    {\n",
    "        AssetsList = assetsList;\n",
    "    }\n",
    "\n",
    "    public override string GetInfo()\n",
    "    {\n",
    "        string assets = string.Join(\", \", AssetsList);\n",
    "        return base.GetInfo() + $\", Активы: {assets}\";\n",
    "    }\n",
    "}\n",
    "\n",
    "// Создаем объекты и выводим результат\n",
    "var sa = new SavingsAccount(\"SA123\", 1000m, 5m);\n",
    "sa.Deposit(200m);\n",
    "Console.WriteLine(sa.GetInfo());\n",
    "\n",
    "var ca = new CheckingAccount(\"CA123\", 500m, 300m);\n",
    "bool success = ca.Withdraw(700m);\n",
    "Console.WriteLine(ca.GetInfo() + \", Снятие 700: \" + (success ? \"Успешно\" : \"Неудачно\"));\n",
    "\n",
    "var ia = new InvestmentAccount(\"IA123\", 1500m, new List<string> { \"Акции\", \"Облигации\" });\n",
    "Console.WriteLine(ia.GetInfo());\n"
   ]
  }
 ],
 "metadata": {
  "kernelspec": {
   "display_name": ".NET (C#)",
   "language": "C#",
   "name": ".net-csharp"
  },
  "polyglot_notebook": {
   "kernelInfo": {
    "defaultKernelName": "csharp",
    "items": [
     {
      "aliases": [],
      "languageName": "csharp",
      "name": "csharp"
     }
    ]
   }
  }
 },
 "nbformat": 4,
 "nbformat_minor": 2
}
