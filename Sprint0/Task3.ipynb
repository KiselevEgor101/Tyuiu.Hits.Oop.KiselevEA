{
 "cells": [
  {
   "cell_type": "markdown",
   "metadata": {},
   "source": [
    "<h1 style=\"color:DodgerBlue\">Индивидальный проект</h1>"
   ]
  },
  {
   "cell_type": "markdown",
   "metadata": {},
   "source": [
    "<h2 style=\"color:DodgerBlue\">Название проекта:</h2>\n",
    "\n",
    "----\n",
    "\n",
    "### Вариант задания  7\n"
   ]
  },
  {
   "cell_type": "markdown",
   "metadata": {},
   "source": [
    "<h2 style=\"color:DodgerBlue\">Описание проекта:</h2>\n",
    "\n",
    "----\n",
    "\n",
    "Создать базовый класс BankAccount в C#, который будет представлять \n",
    "информацию об учетных записях в банке. На основе этого класса разработать 2-3 \n",
    "производных класса, демонстрирующих принципы наследования и полиморфизма. \n",
    "В каждом из классов должны быть реализованы новые атрибуты и методы, а также \n",
    "переопределены некоторые методы базового класса для демонстрации \n",
    "полиморфизма.\n"
   ]
  },
  {
   "cell_type": "markdown",
   "metadata": {},
   "source": [
    "<h2 style=\"color:DodgerBlue\">Реализация:</h2>\n",
    "\n",
    "----"
   ]
  },
  {
   "cell_type": "code",
   "execution_count": 5,
   "metadata": {
    "dotnet_interactive": {
     "language": "csharp"
    },
    "polyglot_notebook": {
     "kernelName": "csharp"
    }
   },
   "outputs": [
    {
     "name": "stdout",
     "output_type": "stream",
     "text": [
      "Номер счета: 6670, Баланс: 1525.00, Тип счета: Сберегательный\n",
      "Номер счета: 5781, Баланс: -100, Тип счета: Текущий\n",
      "Номер счета: 2059, Баланс: 12000, Тип счета: Инвестиционный, Активы: Акции, Облигации\n"
     ]
    }
   ],
   "source": [
    "using System;\n",
    "using System.Collections.Generic;\n",
    "\n",
    "public class BankAccount\n",
    "{\n",
    "    public string AccountNumber { get; set; }\n",
    "    public decimal Balance { get; set; }\n",
    "    public string AccountType { get; set; }\n",
    "\n",
    "    public BankAccount(string accountNumber, decimal balance, string accountType)\n",
    "    {\n",
    "        AccountNumber = accountNumber;\n",
    "        Balance = balance;\n",
    "        AccountType = accountType;\n",
    "    }\n",
    "\n",
    "    public virtual string GetInfo()\n",
    "    {\n",
    "        return $\"Номер счета: {AccountNumber}, Баланс: {Balance}, Тип счета: {AccountType}\";\n",
    "    }\n",
    "\n",
    "    public virtual void Deposit(decimal amount)\n",
    "    {\n",
    "        Balance += amount;\n",
    "    }\n",
    "\n",
    "    public virtual void Withdraw(decimal amount)\n",
    "    {\n",
    "        if (amount <= Balance)\n",
    "        {\n",
    "            Balance -= amount;\n",
    "        }\n",
    "    }\n",
    "}\n",
    "\n",
    "public class SavingsAccount : BankAccount\n",
    "{\n",
    "    public decimal InterestRate { get; set; }\n",
    "\n",
    "    public SavingsAccount(string accountNumber, decimal balance, decimal interestRate)\n",
    "        : base(accountNumber, balance, \"Сберегательный\")\n",
    "    {\n",
    "        InterestRate = interestRate;\n",
    "    }\n",
    "\n",
    "    public override void Deposit(decimal amount)\n",
    "    {\n",
    "        decimal interest = amount * InterestRate;\n",
    "        Balance += amount + interest;\n",
    "    }\n",
    "}\n",
    "\n",
    "public class CheckingAccount : BankAccount\n",
    "{\n",
    "    public decimal OverdraftLimit { get; set; }\n",
    "\n",
    "    public CheckingAccount(string accountNumber, decimal balance, decimal overdraftLimit)\n",
    "        : base(accountNumber, balance, \"Текущий\")\n",
    "    {\n",
    "        OverdraftLimit = overdraftLimit;\n",
    "    }\n",
    "\n",
    "    public override void Withdraw(decimal amount)\n",
    "    {\n",
    "        if (amount <= Balance + OverdraftLimit)\n",
    "        {\n",
    "            Balance -= amount;\n",
    "        }\n",
    "    }\n",
    "}\n",
    "\n",
    "public class InvestmentAccount : BankAccount\n",
    "{\n",
    "    public List<string> AssetsList { get; set; }\n",
    "\n",
    "    public InvestmentAccount(string accountNumber, decimal balance, List<string> assetsList)\n",
    "        : base(accountNumber, balance, \"Инвестиционный\")\n",
    "    {\n",
    "        AssetsList = assetsList;\n",
    "    }\n",
    "\n",
    "    public override string GetInfo()\n",
    "    {\n",
    "        string assets = string.Join(\", \", AssetsList);\n",
    "        return base.GetInfo() + $\", Активы: {assets}\";\n",
    "    }\n",
    "}\n",
    "var savings = new SavingsAccount(\"6670\", 1000m, 0.05m);\n",
    "var checking = new CheckingAccount(\"5781\", 500m, 200m);\n",
    "var investment = new InvestmentAccount(\"2059\", 10000m, new List<string> { \"Акции\", \"Облигации\" });\n",
    "\n",
    "savings.Deposit(500m);\n",
    "checking.Withdraw(600m);\n",
    "investment.Deposit(2000m);\n",
    "\n",
    "Console.WriteLine(savings.GetInfo());\n",
    "Console.WriteLine(checking.GetInfo());\n",
    "Console.WriteLine(investment.GetInfo());\n"
   ]
  }
 ],
 "metadata": {
  "kernelspec": {
   "display_name": ".NET (C#)",
   "language": "C#",
   "name": ".net-csharp"
  },
  "polyglot_notebook": {
   "kernelInfo": {
    "defaultKernelName": "csharp",
    "items": [
     {
      "aliases": [],
      "languageName": "csharp",
      "name": "csharp"
     }
    ]
   }
  }
 },
 "nbformat": 4,
 "nbformat_minor": 2
}
