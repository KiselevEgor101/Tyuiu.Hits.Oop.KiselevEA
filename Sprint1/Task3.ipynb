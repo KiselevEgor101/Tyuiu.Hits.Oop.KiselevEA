{
 "cells": [
  {
   "cell_type": "markdown",
   "metadata": {},
   "source": [
    "<h1 style=\"color:DodgerBlue\">Индивидальный проект</h1>"
   ]
  },
  {
   "cell_type": "markdown",
   "metadata": {},
   "source": [
    "<h2 style=\"color:DodgerBlue\">Название проекта:</h2>\n",
    "\n",
    "----\n",
    "\n",
    "### Вариант задания 7\n"
   ]
  },
  {
   "cell_type": "markdown",
   "metadata": {},
   "source": [
    "<h2 style=\"color:DodgerBlue\">Описание проекта:</h2>\n",
    "\n",
    "----\n",
    "\n",
    "Создать базовый класс BankAccount в C#, который будет представлять \n",
    "информацию об учетных записях в банке. На основе этого класса разработать 2-3 \n",
    "производных класса, демонстрирующих принципы наследования и полиморфизма. \n",
    "В каждом из классов должны быть реализованы новые атрибуты и методы, а также \n",
    "переопределены некоторые методы базового класса для демонстрации \n",
    "полиморфизма.\n",
    "\n",
    "#### Дополнительное задание\n",
    "Добавьте к сущестующим классам конструктора классов с использованием гетторов и сетторов и реализуйте взаимодействие объектов между собой"
   ]
  },
  {
   "cell_type": "markdown",
   "metadata": {},
   "source": [
    "<h2 style=\"color:DodgerBlue\">Реализация:</h2>\n",
    "\n",
    "----"
   ]
  },
  {
   "cell_type": "code",
   "execution_count": 2,
   "metadata": {
    "dotnet_interactive": {
     "language": "csharp"
    },
    "polyglot_notebook": {
     "kernelName": "csharp"
    }
   },
   "outputs": [
    {
     "name": "stdout",
     "output_type": "stream",
     "text": [
      "┌───────────────┬────────────┬──────────────────────┐\n",
      "│ Номер счёта   │ Баланс     │ Тип                  │\n",
      "├───────────────┼────────────┼──────────────────────┤\n",
      "│ 6670          │    1525.00 │ Сберегательный       │\n",
      "│ 5751          │     500.00 │ Текущий              │\n",
      "│ 2059          │   12000.00 │ Инвестиционный       │\n",
      "└───────────────┴────────────┴──────────────────────┘\n",
      "\n",
      "Доп. информация по инвестиционному счёту:\n",
      "Номер счета: 2059, Баланс: 12000.00, Тип счета: Инвестиционный, Активы: Акции, Облигации\n"
     ]
    }
   ],
   "source": [
    "using System;\n",
    "using System.Collections.Generic;\n",
    "\n",
    "public class BankAccount\n",
    "{\n",
    "    private string accountNumber;\n",
    "    private decimal balance;\n",
    "    private string accountType;\n",
    "\n",
    "    public string AccountNumber\n",
    "    {\n",
    "        get { return accountNumber; }\n",
    "        set { accountNumber = value; }\n",
    "    }\n",
    "\n",
    "    public decimal Balance\n",
    "    {\n",
    "        get { return balance; }\n",
    "        set { if (value >= 0) balance = value; }\n",
    "    }\n",
    "\n",
    "    public string AccountType\n",
    "    {\n",
    "        get { return accountType; }\n",
    "        protected set { accountType = value; }\n",
    "    }\n",
    "\n",
    "    public BankAccount(string accountNumber, decimal balance, string accountType)\n",
    "    {\n",
    "        AccountNumber = accountNumber;\n",
    "        Balance = balance;\n",
    "        AccountType = accountType;\n",
    "    }\n",
    "\n",
    "    public virtual string GetInfo()\n",
    "    {\n",
    "        return $\"Номер счета: {AccountNumber}, Баланс: {Balance:F2}, Тип счета: {AccountType}\";\n",
    "    }\n",
    "\n",
    "    public virtual void Deposit(decimal amount)\n",
    "    {\n",
    "        if (amount > 0)\n",
    "            Balance += amount;\n",
    "    }\n",
    "\n",
    "    public virtual void Withdraw(decimal amount)\n",
    "    {\n",
    "        if (amount > 0 && amount <= Balance)\n",
    "            Balance -= amount;\n",
    "    }\n",
    "}\n",
    "\n",
    "public class SavingsAccount : BankAccount\n",
    "{\n",
    "    private decimal interestRate;\n",
    "\n",
    "    public decimal InterestRate\n",
    "    {\n",
    "        get { return interestRate; }\n",
    "        set { if (value >= 0) interestRate = value; }\n",
    "    }\n",
    "\n",
    "    public SavingsAccount(string accountNumber, decimal balance, decimal interestRate)\n",
    "        : base(accountNumber, balance, \"Сберегательный\")\n",
    "    {\n",
    "        InterestRate = interestRate;\n",
    "    }\n",
    "\n",
    "    public override void Deposit(decimal amount)\n",
    "    {\n",
    "        if (amount > 0)\n",
    "        {\n",
    "            decimal interest = amount * InterestRate;\n",
    "            base.Deposit(amount + interest);\n",
    "        }\n",
    "    }\n",
    "}\n",
    "\n",
    "public class CheckingAccount : BankAccount\n",
    "{\n",
    "    private decimal overdraftLimit;\n",
    "\n",
    "    public decimal OverdraftLimit\n",
    "    {\n",
    "        get { return overdraftLimit; }\n",
    "        set { if (value >= 0) overdraftLimit = value; }\n",
    "    }\n",
    "\n",
    "    public CheckingAccount(string accountNumber, decimal balance, decimal overdraftLimit)\n",
    "        : base(accountNumber, balance, \"Текущий\")\n",
    "    {\n",
    "        OverdraftLimit = overdraftLimit;\n",
    "    }\n",
    "\n",
    "    public override void Withdraw(decimal amount)\n",
    "    {\n",
    "        if (amount > 0 && amount <= Balance + OverdraftLimit)\n",
    "            Balance -= amount;\n",
    "    }\n",
    "}\n",
    "\n",
    "public class InvestmentAccount : BankAccount\n",
    "{\n",
    "    private List<string> assetsList;\n",
    "\n",
    "    public List<string> AssetsList\n",
    "    {\n",
    "        get { return assetsList; }\n",
    "        set { assetsList = value ?? new List<string>(); }\n",
    "    }\n",
    "\n",
    "    public InvestmentAccount(string accountNumber, decimal balance, List<string> assetsList)\n",
    "        : base(accountNumber, balance, \"Инвестиционный\")\n",
    "    {\n",
    "        AssetsList = assetsList;\n",
    "    }\n",
    "\n",
    "    public override string GetInfo()\n",
    "    {\n",
    "        string assets = string.Join(\", \", AssetsList);\n",
    "        return base.GetInfo() + $\", Активы: {assets}\";\n",
    "    }\n",
    "}\n",
    "\n",
    "var savings = new SavingsAccount(\"6670\", 1000m, 0.05m);\n",
    "var checking = new CheckingAccount(\"5751\", 500m, 200m);\n",
    "var investment = new InvestmentAccount(\"2059\", 10000m, new List<string> { \"Акции\", \"Облигации\" });\n",
    "\n",
    "savings.Deposit(500m);\n",
    "checking.Withdraw(600m);\n",
    "investment.Deposit(2000m);\n",
    "\n",
    "Console.WriteLine(\"┌───────────────┬────────────┬──────────────────────┐\");\n",
    "Console.WriteLine(\"│ Номер счёта   │ Баланс     │ Тип                  │\");\n",
    "Console.WriteLine(\"├───────────────┼────────────┼──────────────────────┤\");\n",
    "Console.WriteLine($\"│ {savings.AccountNumber,-13} │ {savings.Balance,10:F2} │ {savings.AccountType,-20} │\");\n",
    "Console.WriteLine($\"│ {checking.AccountNumber,-13} │ {checking.Balance,10:F2} │ {checking.AccountType,-20} │\");\n",
    "Console.WriteLine($\"│ {investment.AccountNumber,-13} │ {investment.Balance,10:F2} │ {investment.AccountType,-20} │\");\n",
    "Console.WriteLine(\"└───────────────┴────────────┴──────────────────────┘\");\n",
    "\n",
    "Console.WriteLine();\n",
    "Console.WriteLine(\"Доп. информация по инвестиционному счёту:\");\n",
    "Console.WriteLine(investment.GetInfo());\n"
   ]
  }
 ],
 "metadata": {
  "kernelspec": {
   "display_name": ".NET (C#)",
   "language": "C#",
   "name": ".net-csharp"
  },
  "polyglot_notebook": {
   "kernelInfo": {
    "defaultKernelName": "csharp",
    "items": [
     {
      "aliases": [],
      "languageName": "csharp",
      "name": "csharp"
     }
    ]
   }
  }
 },
 "nbformat": 4,
 "nbformat_minor": 2
}
